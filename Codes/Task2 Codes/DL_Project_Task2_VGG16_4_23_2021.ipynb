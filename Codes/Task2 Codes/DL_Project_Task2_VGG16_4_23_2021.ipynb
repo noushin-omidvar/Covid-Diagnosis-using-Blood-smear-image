{
 "cells": [
  {
   "cell_type": "code",
   "execution_count": 8,
   "id": "silent-vienna",
   "metadata": {},
   "outputs": [],
   "source": [
    "import numpy as np\n",
    "import pandas as pd\n",
    "import sklearn\n",
    "import itertools\n",
    "import cv2\n",
    "import scipy\n",
    "import os\n",
    "import csv\n",
    "import matplotlib.pyplot as plt\n",
    "import xml.etree.ElementTree as ET\n",
    "from PIL import Image\n",
    "from tqdm import tqdm\n",
    "import scipy\n",
    "from skimage.transform import resize\n",
    "from keras.utils.np_utils import to_categorical\n",
    "import seaborn as sns\n",
    "%matplotlib inline\n",
    "#############\n",
    "from sklearn.preprocessing import LabelEncoder\n",
    "from sklearn.metrics import accuracy_score, classification_report, f1_score, precision_score, recall_score\n",
    "#######################\n",
    "import torch\n",
    "import torch.nn as nn\n",
    "import torch.nn.functional as F\n",
    "import torch.optim as optim\n",
    "import torchvision.transforms as transforms\n",
    "from torch.autograd import Variable\n",
    "from torch.utils.data import TensorDataset, DataLoader\n",
    "from torch.utils.data import Dataset\n",
    "import torchvision.models as models\n",
    "from torch.optim.lr_scheduler import MultiStepLR\n",
    "device = torch.device(\"cuda:0\" if torch.cuda.is_available() else \"cpu\")"
   ]
  },
  {
   "cell_type": "code",
   "execution_count": 9,
   "id": "unauthorized-egyptian",
   "metadata": {},
   "outputs": [],
   "source": [
    "#WBC Blood Cell Classification:\n",
    "dict_characters = {1:'NEUTROPHIL',2:'EOSINOPHIL',3:'MONOCYTE',4:'LYMPHOCYTE'}\n",
    "dict_characters2 = {0:'Mononuclear',1:'Polynuclear'}"
   ]
  },
  {
   "cell_type": "code",
   "execution_count": null,
   "id": "wireless-rabbit",
   "metadata": {},
   "outputs": [],
   "source": []
  },
  {
   "cell_type": "markdown",
   "id": "intimate-worker",
   "metadata": {},
   "source": [
    "## Original Data is unbalanced among different cell types (classes)"
   ]
  },
  {
   "cell_type": "code",
   "execution_count": 10,
   "id": "hydraulic-governor",
   "metadata": {},
   "outputs": [
    {
     "name": "stdout",
     "output_type": "stream",
     "text": [
      "[  3  88  33  21 207]\n"
     ]
    },
    {
     "name": "stderr",
     "output_type": "stream",
     "text": [
      "C:\\Users\\parshinshojaee\\Anaconda3\\lib\\site-packages\\ipykernel_launcher.py:18: UserWarning: FixedFormatter should only be used together with FixedLocator\n"
     ]
    },
    {
     "data": {
      "text/plain": [
       "Text(0, 0.5, 'Counts')"
      ]
     },
     "execution_count": 10,
     "metadata": {},
     "output_type": "execute_result"
    },
    {
     "data": {
      "image/png": "[encoded data removed]",
      "text/plain": [
       "<Figure size 432x288 with 1 Axes>"
      ]
     },
     "metadata": {
      "needs_background": "light"
     },
     "output_type": "display_data"
    }
   ],
   "source": [
    "reader = csv.reader(open('data/dataset2-master/dataset2-master/labels.csv'))\n",
    "# skip the header\n",
    "next(reader)\n",
    "X3 = []\n",
    "y3 = []\n",
    "for row in reader:\n",
    "    label = row[2]\n",
    "    if len(label) > 0 and label.find(',') == -1:\n",
    "        y3.append(label)\n",
    "y3 = np.asarray(y3)\n",
    "encoder = LabelEncoder()\n",
    "encoder.fit(y3)\n",
    "encoded_y = encoder.transform(y3)\n",
    "counts = np.bincount(encoded_y)\n",
    "print(counts)\n",
    "fig, ax = plt.subplots()\n",
    "plt.bar(list(range(5)), counts)\n",
    "ax.set_xticklabels(('', 'Basophil', 'Eosinophil', 'Lymphocyte', 'Monocyte', 'Neutrophil'))\n",
    "ax.set_ylabel('Counts')"
   ]
  },
  {
   "cell_type": "markdown",
   "id": "behind-creek",
   "metadata": {},
   "source": [
    "## Augmented data (rotated, zoom-in + zoom-out, random crop, etc.) to make it balanced"
   ]
  },
  {
   "cell_type": "code",
   "execution_count": null,
   "id": "dangerous-board",
   "metadata": {},
   "outputs": [
    {
     "name": "stderr",
     "output_type": "stream",
     "text": [
      "100%|██████████████████████████████████████████████████████████████████████████████| 2497/2497 [01:13<00:00, 33.75it/s]\n",
      "100%|██████████████████████████████████████████████████████████████████████████████| 2483/2483 [01:09<00:00, 35.75it/s]\n",
      "100%|██████████████████████████████████████████████████████████████████████████████| 2478/2478 [00:55<00:00, 44.91it/s]\n",
      "100%|██████████████████████████████████████████████████████████████████████████████| 2499/2499 [01:40<00:00, 24.85it/s]\n"
     ]
    }
   ],
   "source": [
    "from tqdm import tqdm\n",
    "def get_data(folder):\n",
    "    X = []\n",
    "    y = []\n",
    "    z = []\n",
    "    for wbc_type in os.listdir(folder):\n",
    "        if not wbc_type.startswith('.'):\n",
    "            if wbc_type in ['NEUTROPHIL']:\n",
    "                label = 1\n",
    "                label2 = 1\n",
    "            elif wbc_type in ['EOSINOPHIL']:\n",
    "                label = 2\n",
    "                label2 = 1\n",
    "            elif wbc_type in ['MONOCYTE']:\n",
    "                label = 3  \n",
    "                label2 = 0\n",
    "            elif wbc_type in ['LYMPHOCYTE']:\n",
    "                label = 4 \n",
    "                label2 = 0\n",
    "            else:\n",
    "                label = 5\n",
    "                label2 = 0\n",
    "            for image_filename in tqdm(os.listdir(folder + wbc_type)):\n",
    "                img_file = cv2.imread(folder + wbc_type + '/' + image_filename)\n",
    "                if img_file is not None:\n",
    "#                     img_file = Image.fromarray(img_file).resize(size=(60,80,3))\n",
    "#                     img_file = resize(img_file, (60,80,3)) #reduce the size of the picture\n",
    "                    img_file = resize(img_file, (120,160,3)) #reduce the size of the picture\n",
    "                    img_arr = np.asarray(img_file)\n",
    "                    X.append(img_arr)\n",
    "                    y.append(label)\n",
    "                    z.append(label2)\n",
    "    X = np.asarray(X)\n",
    "    y = np.asarray(y)\n",
    "    z = np.asarray(z)\n",
    "    return X,y,z\n",
    "\n",
    "X_train, y_train, z_train = get_data('data/dataset2-master/dataset2-master/images/TRAIN/')\n",
    "X_test, y_test, z_test = get_data('data/dataset2-master/dataset2-master/images/TEST/')\n",
    "\n",
    "# Encode labels to hot vectors (ex : 2 -> [0,0,1,0,0,0,0,0,0,0])\n",
    "y_trainHot = to_categorical(y_train, num_classes = 5)\n",
    "y_testHot = to_categorical(y_test, num_classes = 5)\n",
    "z_trainHot = to_categorical(z_train, num_classes = 2)\n",
    "z_testHot = to_categorical(z_test, num_classes = 2)\n",
    "print(dict_characters)\n",
    "print(dict_characters2)"
   ]
  },
  {
   "cell_type": "code",
   "execution_count": 59,
   "id": "advance-offer",
   "metadata": {},
   "outputs": [
    {
     "name": "stderr",
     "output_type": "stream",
     "text": [
      "C:\\Users\\parshinshojaee\\Anaconda3\\lib\\site-packages\\seaborn\\_decorators.py:43: FutureWarning: Pass the following variable as a keyword arg: x. From version 0.12, the only valid positional argument will be `data`, and passing other arguments without an explicit keyword will result in an error or misinterpretation.\n",
      "  FutureWarning\n"
     ]
    },
    {
     "name": "stdout",
     "output_type": "stream",
     "text": [
      "{1: 'NEUTROPHIL', 2: 'EOSINOPHIL', 3: 'MONOCYTE', 4: 'LYMPHOCYTE'}\n"
     ]
    },
    {
     "data": {
      "image/png": "[encoded data removed]",
      "text/plain": [
       "<Figure size 432x288 with 1 Axes>"
      ]
     },
     "metadata": {
      "needs_background": "light"
     },
     "output_type": "display_data"
    }
   ],
   "source": [
    "df = pd.DataFrame()\n",
    "df[\"labels\"]=y_train\n",
    "lab = df['labels']\n",
    "dist = lab.value_counts()\n",
    "sns.countplot(lab)\n",
    "print(dict_characters)"
   ]
  },
  {
   "cell_type": "code",
   "execution_count": 41,
   "id": "express-islam",
   "metadata": {},
   "outputs": [],
   "source": [
    "# # Covert Augmented Data to Torch\n",
    "# X_train_torch = torch.from_numpy(X_train)\n",
    "# X_train_torch = X_train_torch.reshape((X_train_torch.shape[0], 3,X_train_torch.shape[1],X_train_torch.shape[2]))\n",
    "# y_train_torch = torch.from_numpy(y_train-1)\n",
    "# z_train_torch = torch.from_numpy(z_train)\n",
    "\n",
    "# X_test_torch = torch.from_numpy(X_test)\n",
    "# X_test_torch = X_test_torch.reshape((X_test_torch.shape[0],3,X_test_torch.shape[1],X_test_torch.shape[2]))\n",
    "# y_test_torch = torch.from_numpy(y_test-1)\n",
    "# z_test_torch = torch.from_numpy(z_test)\n",
    "\n",
    "# trainset_y = TensorDataset(X_train_torch, y_train_torch)\n",
    "# trainset_z = TensorDataset(X_train_torch, z_train_torch)\n",
    "# testset_y = TensorDataset(X_test_torch, y_test_torch)\n",
    "# testset_z = TensorDataset(X_test_torch, z_test_torch)\n",
    "\n",
    "# #Torch Data Loader:\n",
    "# train_minibatch_size = 64\n",
    "# test_minibatch_size = 128\n",
    "# train_loader = DataLoader(trainset_y, batch_size = train_minibatch_size, shuffle = True)\n",
    "# test_loader = DataLoader(testset_y, batch_size = test_minibatch_size, shuffle = True)"
   ]
  },
  {
   "cell_type": "code",
   "execution_count": 62,
   "id": "going-liabilities",
   "metadata": {},
   "outputs": [],
   "source": [
    "class BloodDataset(Dataset):\n",
    "    def __init__(self, images, labels, transform=None):\n",
    "        self.images = images\n",
    "        self.labels = labels\n",
    "        self.transform = transform\n",
    "        \n",
    "    def __len__(self):\n",
    "        return len(self.labels)\n",
    "    \n",
    "    def __getitem__(self, idx):\n",
    "        if self.transform:\n",
    "            return self.transform(self.images[idx]), self.labels[idx]\n",
    "        return self.images[idx], self.labels[idx]"
   ]
  },
  {
   "cell_type": "code",
   "execution_count": 65,
   "id": "noticed-editor",
   "metadata": {},
   "outputs": [],
   "source": [
    "tfms = transforms.Compose([transforms.ToTensor()])\n",
    "train = BloodDataset(X_train, y_train-1, transform=tfms)\n",
    "#normalize the input data\n",
    "mean = tuple((X_train.mean(axis=(0,1,2))/255).round(4))\n",
    "std = tuple((X_train.std(axis=(0,1,2))/255).round(4))\n",
    "tfms = transforms.Compose([transforms.ToTensor(),\n",
    "                           transforms.Normalize(mean, std)])\n",
    "train = BloodDataset(X_train, y_train-1, transform=tfms)\n",
    "#####################################\n",
    "tfms = transforms.Compose([transforms.ToTensor()])\n",
    "test = BloodDataset(X_test, y_test-1, transform=tfms)\n",
    "mean = tuple((X_test.std(axis=(0,1,2))/255).round(4))\n",
    "std = tuple((X_test.std(axis=(0,1,2))/255).round(4))\n",
    "tfms = transforms.Compose([transforms.ToTensor(),\n",
    "                            transforms.Normalize(mean, std)])\n",
    "test = BloodDataset(X_test, y_test-1, transform=tfms)\n",
    "##################################\n",
    "batch_size = 128\n",
    "test_size = 128\n",
    "train_loader = DataLoader(train, batch_size=batch_size, shuffle=True)\n",
    "test_loader = DataLoader(test, batch_size=test_size, shuffle=True)"
   ]
  },
  {
   "cell_type": "markdown",
   "id": "diagnostic-vegetarian",
   "metadata": {},
   "source": [
    "# Task2 : Classification of different cell types"
   ]
  },
  {
   "cell_type": "code",
   "execution_count": 68,
   "id": "accepting-wilson",
   "metadata": {},
   "outputs": [],
   "source": [
    "#Train Function:\n",
    "def train(epoch, model, train_loader):\n",
    "    model.train()\n",
    "    \n",
    "    train_nb_batch = len(train_loader)\n",
    "    train_loss = 0.0\n",
    "    train_batch_loss = 0.0\n",
    "    train_total_loss = 0.0\n",
    "    train_acc = 0.0\n",
    "    train_batch_acc = 0.0\n",
    "    train_total_acc = 0.0\n",
    "    ####################################\n",
    "    for i, (minibatch_X, minibatch_y) in enumerate(train_loader):\n",
    "        minibatch_X = minibatch_X.float().to(device)\n",
    "        minibatch_y = minibatch_y.long().to(device)\n",
    "        #zero that gradients buffer\n",
    "        optimizer.zero_grad()\n",
    "        #forward + backward + optimize\n",
    "        outputs = model(minibatch_X)\n",
    "        loss = criterion(outputs, minibatch_y)\n",
    "        loss.backward()\n",
    "        optimizer.step()\n",
    "\n",
    "        train_batch_loss = loss.item()\n",
    "        train_total_loss += train_batch_loss\n",
    "        pred_batch_train = outputs.data.max(1, keepdim=True)[1]\n",
    "        if i == 0 :\n",
    "            pred_train = pred_batch_train\n",
    "        if i >0:\n",
    "            pred_train = torch.cat([pred_train, pred_batch_train], dim=0)\n",
    "        train_batch_acc = accuracy_score(pred_batch_train,minibatch_y)\n",
    "        train_total_acc += train_batch_acc\n",
    "        \n",
    "    train_loss = train_total_loss/train_nb_batch\n",
    "    train_acc = train_total_acc/train_nb_batch\n",
    "    scheduler.step()\n",
    "    return pred_train, train_loss, train_acc"
   ]
  },
  {
   "cell_type": "code",
   "execution_count": 69,
   "id": "minimal-gilbert",
   "metadata": {},
   "outputs": [],
   "source": [
    "def test(epoch, model, test_loader):\n",
    "    model.eval()\n",
    "    \n",
    "    test_nb_batch = len(test_loader)\n",
    "    test_loss = 0.0\n",
    "    test_batch_loss = 0.0\n",
    "    test_total_loss = 0.0\n",
    "    test_acc = 0.0\n",
    "    test_batch_acc = 0.0\n",
    "    test_total_acc = 0.0\n",
    "    ####################################\n",
    "    for i, (minibatch_X, minibatch_y) in enumerate(test_loader):\n",
    "        minibatch_X = minibatch_X.float().to(device)\n",
    "        minibatch_y = minibatch_y.long().to(device)\n",
    "        outputs = model(minibatch_X)\n",
    "        loss = criterion(outputs, minibatch_y)\n",
    "        test_batch_loss = loss.item()\n",
    "        test_total_loss += test_batch_loss\n",
    "        pred_batch_test = outputs.data.max(1, keepdim=True)[1]\n",
    "        if i == 0 :\n",
    "            pred_test = pred_batch_test\n",
    "        if i >0:\n",
    "            pred_test = torch.cat([pred_test, pred_batch_test], dim=0)\n",
    "        test_batch_acc = accuracy_score(pred_batch_test,minibatch_y)\n",
    "        test_total_acc += test_batch_acc\n",
    "    test_loss = test_total_loss/test_nb_batch\n",
    "    test_acc = test_total_acc/test_nb_batch\n",
    "    return pred_test, test_loss, test_acc"
   ]
  },
  {
   "cell_type": "markdown",
   "id": "declared-activation",
   "metadata": {},
   "source": [
    "### VGG16:"
   ]
  },
  {
   "cell_type": "code",
   "execution_count": 95,
   "id": "italic-boundary",
   "metadata": {},
   "outputs": [],
   "source": [
    "n_classes = 4\n",
    "vgg16 = models.vgg16(pretrained=True)\n",
    "for param in vgg16.features.parameters():\n",
    "    param.requires_grad = False\n",
    "num_ftrs = vgg16.classifier[6].in_features\n",
    "vgg16.classifier[6] = nn.Sequential(\n",
    "                nn.Dropout(0.2),\n",
    "                nn.Linear(num_ftrs, 128),  \n",
    "                nn.ReLU(), \n",
    "                nn.Dropout(0.2),\n",
    "                nn.Linear(128, 32),\n",
    "                nn.Linear(32, 4))\n",
    "criterion = nn.CrossEntropyLoss()\n",
    "# optimizer = optim.Adam(vgg16.classifier.parameters(), lr=0.001, betas=(0.9, 0.999), eps=1e-08, weight_decay=0, amsgrad=False)\n",
    "# optimizer = optim.Adam(vgg16.classifier.parameters(), lr=0.0001, betas=(0.9, 0.999), weight_decay=0.01, amsgrad=False)\n",
    "lr = 0.0001\n",
    "optimizer = optim.Adam(vgg16.parameters(), lr=lr)\n",
    "scheduler = MultiStepLR(optimizer, milestones=[10,20,30,40,60,80], gamma=0.5)"
   ]
  },
  {
   "cell_type": "code",
   "execution_count": 96,
   "id": "great-affair",
   "metadata": {},
   "outputs": [
    {
     "name": "stdout",
     "output_type": "stream",
     "text": [
      "epoch: 0 train loss: 2.4047946700683007 train accuracy: 0.26789695195481084\n",
      "epoch: 0 test loss: 1.3854823231697082 test accuracy: 0.26156250000000003\n",
      "epoch: 1 train loss: 1.4064680674137213 train accuracy: 0.2679038937547601\n",
      "epoch: 1 test loss: 1.3883894085884094 test accuracy: 0.25400568181818184\n",
      "epoch: 2 train loss: 1.3981568996722882 train accuracy: 0.2734127078573242\n",
      "epoch: 2 test loss: 1.3820742785930633 test accuracy: 0.2765269886363636\n",
      "epoch: 3 train loss: 1.3873829520665681 train accuracy: 0.2797961887534907\n",
      "epoch: 3 test loss: 1.3718047916889191 test accuracy: 0.33433948863636365\n",
      "epoch: 4 train loss: 1.383821313197796 train accuracy: 0.27756588759837525\n",
      "epoch: 4 test loss: 1.3673416256904602 test accuracy: 0.35854403409090907\n",
      "epoch: 5 train loss: 1.3735139018450029 train accuracy: 0.2980065133917238\n",
      "epoch: 5 test loss: 1.3620157122612 test accuracy: 0.37196022727272726\n",
      "epoch: 6 train loss: 1.37082094565416 train accuracy: 0.2959487655496319\n",
      "epoch: 6 test loss: 1.3599262356758117 test accuracy: 0.34370738636363635\n",
      "epoch: 7 train loss: 1.3696108567409027 train accuracy: 0.29519409272658037\n",
      "epoch: 7 test loss: 1.354502445459366 test accuracy: 0.37013494318181817\n",
      "epoch: 8 train loss: 1.364608882329403 train accuracy: 0.2923568799187611\n",
      "epoch: 8 test loss: 1.3116016566753388 test accuracy: 0.384453125\n",
      "epoch: 9 train loss: 1.3596906845386212 train accuracy: 0.3086889518278751\n",
      "epoch: 9 test loss: 1.3217942237854003 test accuracy: 0.38953125\n",
      "epoch: 10 train loss: 1.3417539122777107 train accuracy: 0.31268247017009393\n",
      "epoch: 10 test loss: 1.320449274778366 test accuracy: 0.3831392045454546\n",
      "epoch: 11 train loss: 1.3341210973568451 train accuracy: 0.3218039953033765\n",
      "epoch: 11 test loss: 1.3128458440303803 test accuracy: 0.3770383522727273\n",
      "epoch: 12 train loss: 1.3283955470109596 train accuracy: 0.3303374508123889\n",
      "epoch: 12 test loss: 1.2960205137729646 test accuracy: 0.3619247159090909\n",
      "epoch: 13 train loss: 1.3235644086813316 train accuracy: 0.3238072004315816\n",
      "epoch: 13 test loss: 1.2989465355873109 test accuracy: 0.3969460227272727\n",
      "epoch: 14 train loss: 1.3138821507111573 train accuracy: 0.3450610085046966\n",
      "epoch: 14 test loss: 1.2917564034461975 test accuracy: 0.38784801136363634\n",
      "epoch: 15 train loss: 1.3070227075845768 train accuracy: 0.3416823353008378\n",
      "epoch: 15 test loss: 1.2964952170848847 test accuracy: 0.4028125\n",
      "epoch: 16 train loss: 1.2905451609538152 train accuracy: 0.3539356038969282\n",
      "epoch: 16 test loss: 1.2715148448944091 test accuracy: 0.4150497159090909\n",
      "epoch: 17 train loss: 1.2951947114406488 train accuracy: 0.35597847645341457\n",
      "epoch: 17 test loss: 1.267096471786499 test accuracy: 0.4173863636363636\n",
      "epoch: 18 train loss: 1.2884117517715845 train accuracy: 0.35617879696623506\n",
      "epoch: 18 test loss: 1.262287002801895 test accuracy: 0.4059375\n",
      "epoch: 19 train loss: 1.2782245996670845 train accuracy: 0.36351032939832445\n",
      "epoch: 19 test loss: 1.268416029214859 test accuracy: 0.40646306818181815\n",
      "epoch: 20 train loss: 1.2693222226240697 train accuracy: 0.3714765406829144\n",
      "epoch: 20 test loss: 1.262339997291565 test accuracy: 0.43041903409090915\n",
      "epoch: 21 train loss: 1.2608765378976479 train accuracy: 0.3788685659431328\n",
      "epoch: 21 test loss: 1.2621864438056947 test accuracy: 0.40905539772727273\n",
      "epoch: 22 train loss: 1.256265028929099 train accuracy: 0.3862734831175425\n",
      "epoch: 22 test loss: 1.2529985666275025 test accuracy: 0.4278053977272728\n",
      "epoch: 23 train loss: 1.2497238623790252 train accuracy: 0.3866612322289921\n",
      "epoch: 23 test loss: 1.2486863315105439 test accuracy: 0.41869318181818177\n",
      "epoch: 24 train loss: 1.2447381615638733 train accuracy: 0.39853369351358214\n",
      "epoch: 24 test loss: 1.2511267483234405 test accuracy: 0.43834517045454546\n",
      "epoch: 25 train loss: 1.242191045712202 train accuracy: 0.40181914826098\n",
      "epoch: 25 test loss: 1.2452565014362336 test accuracy: 0.43652698863636363\n",
      "epoch: 26 train loss: 1.2313286173037994 train accuracy: 0.4184060833968012\n",
      "epoch: 26 test loss: 1.2426175117492675 test accuracy: 0.42872869318181817\n",
      "epoch: 27 train loss: 1.2207500262138171 train accuracy: 0.4201276497842092\n",
      "epoch: 27 test loss: 1.2483748376369477 test accuracy: 0.435234375\n",
      "epoch: 28 train loss: 1.232931395371755 train accuracy: 0.41404564134298044\n",
      "epoch: 28 test loss: 1.261663293838501 test accuracy: 0.43210227272727275\n",
      "epoch: 29 train loss: 1.2265930878810394 train accuracy: 0.41835848248286367\n",
      "epoch: 29 test loss: 1.248315417766571 test accuracy: 0.42431107954545455\n",
      "epoch: 30 train loss: 1.2162248232425787 train accuracy: 0.4218511995430312\n",
      "epoch: 30 test loss: 1.2343860626220704 test accuracy: 0.4409375\n",
      "epoch: 31 train loss: 1.2146952595466223 train accuracy: 0.42758016787255654\n",
      "epoch: 31 test loss: 1.2423539876937866 test accuracy: 0.4409517045454545\n",
      "epoch: 32 train loss: 1.2054924261875641 train accuracy: 0.4368286287763392\n",
      "epoch: 32 test loss: 1.239332342147827 test accuracy: 0.42521306818181814\n",
      "epoch: 33 train loss: 1.1965014307926862 train accuracy: 0.43465187864940336\n",
      "epoch: 33 test loss: 1.2382610082626342 test accuracy: 0.4319673295454545\n",
      "epoch: 34 train loss: 1.1966675290694604 train accuracy: 0.4410085840314801\n",
      "epoch: 34 test loss: 1.2408592104911804 test accuracy: 0.42639204545454545\n",
      "epoch: 35 train loss: 1.1963858207066853 train accuracy: 0.44652433993399343\n",
      "epoch: 35 test loss: 1.2356706142425538 test accuracy: 0.4336647727272728\n",
      "epoch: 36 train loss: 1.1956384013860653 train accuracy: 0.44719174441482606\n",
      "epoch: 36 test loss: 1.2386909067630767 test accuracy: 0.4330184659090909\n",
      "epoch: 37 train loss: 1.1960718020414696 train accuracy: 0.4442603214648388\n",
      "epoch: 37 test loss: 1.2363265097141265 test accuracy: 0.4395241477272728\n",
      "epoch: 38 train loss: 1.1864771430309002 train accuracy: 0.4518189499238386\n",
      "epoch: 38 test loss: 1.239867901802063 test accuracy: 0.43484375000000003\n",
      "epoch: 39 train loss: 1.1862001373217657 train accuracy: 0.45660680851739016\n",
      "epoch: 39 test loss: 1.2342695832252502 test accuracy: 0.4451136363636364\n",
      "epoch: 40 train loss: 1.179111463901324 train accuracy: 0.457061000571211\n",
      "epoch: 40 test loss: 1.2282787382602691 test accuracy: 0.4410724431818182\n",
      "epoch: 41 train loss: 1.1799277999462225 train accuracy: 0.4586030718456461\n",
      "epoch: 41 test loss: 1.230185514688492 test accuracy: 0.44184659090909084\n",
      "epoch: 42 train loss: 1.1762758218325102 train accuracy: 0.45967210903782685\n",
      "epoch: 42 test loss: 1.2318037390708922 test accuracy: 0.439140625\n",
      "epoch: 43 train loss: 1.1661942249689348 train accuracy: 0.46037323083269865\n",
      "epoch: 43 test loss: 1.230555421113968 test accuracy: 0.4477201704545455\n",
      "epoch: 44 train loss: 1.171464544076186 train accuracy: 0.4660486481340442\n",
      "epoch: 44 test loss: 1.2305496633052826 test accuracy: 0.44264914772727276\n",
      "epoch: 45 train loss: 1.1645816488143725 train accuracy: 0.4680984624904798\n",
      "epoch: 45 test loss: 1.2267593443393707 test accuracy: 0.4397869318181818\n",
      "epoch: 46 train loss: 1.1700409070039406 train accuracy: 0.467704763264788\n",
      "epoch: 46 test loss: 1.2282480657100678 test accuracy: 0.4460298295454545\n",
      "epoch: 47 train loss: 1.1581952709418077 train accuracy: 0.4751235640390962\n",
      "epoch: 47 test loss: 1.229561448097229 test accuracy: 0.4405752840909091\n",
      "epoch: 48 train loss: 1.1596856804994435 train accuracy: 0.47522967440974867\n",
      "epoch: 48 test loss: 1.2293645083904265 test accuracy: 0.44472301136363634\n",
      "epoch: 49 train loss: 1.1631156572928796 train accuracy: 0.47027521261741556\n",
      "epoch: 49 test loss: 1.2277051508426666 test accuracy: 0.4414701704545455\n",
      "epoch: 50 train loss: 1.1602497100830078 train accuracy: 0.47062924441482606\n",
      "epoch: 50 test loss: 1.2276450276374817 test accuracy: 0.4409588068181818\n",
      "epoch: 51 train loss: 1.153271808074071 train accuracy: 0.4737282622493018\n",
      "epoch: 51 test loss: 1.2297833442687989 test accuracy: 0.4361505681818182\n",
      "epoch: 52 train loss: 1.1547231047581403 train accuracy: 0.47957028274942876\n",
      "epoch: 52 test loss: 1.2275307118892669 test accuracy: 0.44238636363636363\n",
      "epoch: 53 train loss: 1.1488004938150063 train accuracy: 0.47959705826351867\n",
      "epoch: 53 test loss: 1.2282612383365632 test accuracy: 0.43288352272727276\n",
      "epoch: 54 train loss: 1.1454284343964014 train accuracy: 0.47931641120842855\n",
      "epoch: 54 test loss: 1.2282118618488311 test accuracy: 0.4464275568181818\n",
      "epoch: 55 train loss: 1.14540257362219 train accuracy: 0.48578021864686466\n",
      "epoch: 55 test loss: 1.226071435213089 test accuracy: 0.4466832386363636\n"
     ]
    },
    {
     "name": "stdout",
     "output_type": "stream",
     "text": [
      "epoch: 56 train loss: 1.1470633791043208 train accuracy: 0.48204156353135313\n",
      "epoch: 56 test loss: 1.2297059655189515 test accuracy: 0.43901278409090916\n",
      "epoch: 57 train loss: 1.1376602833087628 train accuracy: 0.48505926313785225\n",
      "epoch: 57 test loss: 1.2322844326496125 test accuracy: 0.4349715909090909\n",
      "epoch: 58 train loss: 1.1343737489137895 train accuracy: 0.487636654290429\n",
      "epoch: 58 test loss: 1.2280932724475861 test accuracy: 0.43901278409090916\n",
      "epoch: 59 train loss: 1.1457305795107133 train accuracy: 0.485513455191673\n",
      "epoch: 59 test loss: 1.2341805279254914 test accuracy: 0.44109375\n",
      "epoch: 60 train loss: 1.1372713461900368 train accuracy: 0.4903072638994668\n",
      "epoch: 60 test loss: 1.2297048389911651 test accuracy: 0.44161931818181815\n",
      "epoch: 61 train loss: 1.1298977396427057 train accuracy: 0.49261789159685204\n",
      "epoch: 61 test loss: 1.2298285782337188 test accuracy: 0.44225852272727273\n",
      "epoch: 62 train loss: 1.1315708305591192 train accuracy: 0.48917277545062193\n",
      "epoch: 62 test loss: 1.2298409998416902 test accuracy: 0.4403125\n",
      "epoch: 63 train loss: 1.1305832817004278 train accuracy: 0.4901743780147245\n",
      "epoch: 63 test loss: 1.2331516802310944 test accuracy: 0.4417471590909091\n",
      "epoch: 64 train loss: 1.1283412537513635 train accuracy: 0.49206353928662094\n",
      "epoch: 64 test loss: 1.2301822900772095 test accuracy: 0.44044744318181817\n",
      "epoch: 65 train loss: 1.1301540640684276 train accuracy: 0.4925107895404925\n",
      "epoch: 65 test loss: 1.2294024527072906 test accuracy: 0.4456392045454545\n",
      "epoch: 66 train loss: 1.128241968460572 train accuracy: 0.49315935199289157\n",
      "epoch: 66 test loss: 1.2306911170482635 test accuracy: 0.44018465909090915\n",
      "epoch: 67 train loss: 1.1258286986595545 train accuracy: 0.49551658891850725\n",
      "epoch: 67 test loss: 1.225187361240387 test accuracy: 0.44629261363636363\n",
      "epoch: 68 train loss: 1.120534060857235 train accuracy: 0.4964507568545316\n",
      "epoch: 68 test loss: 1.2301024615764617 test accuracy: 0.4418821022727273\n",
      "epoch: 69 train loss: 1.12405453202052 train accuracy: 0.4965846344249809\n",
      "epoch: 69 test loss: 1.227930623292923 test accuracy: 0.4418607954545455\n",
      "epoch: 70 train loss: 1.1217832091527107 train accuracy: 0.4933725644199035\n",
      "epoch: 70 test loss: 1.2317598104476928 test accuracy: 0.4423934659090909\n",
      "epoch: 71 train loss: 1.117419998615216 train accuracy: 0.49800671172886524\n",
      "epoch: 71 test loss: 1.227732813358307 test accuracy: 0.4378338068181818\n",
      "epoch: 72 train loss: 1.1168428575381255 train accuracy: 0.5000833015993907\n",
      "epoch: 72 test loss: 1.2277757823467255 test accuracy: 0.44536931818181824\n",
      "epoch: 73 train loss: 1.1155219207971523 train accuracy: 0.5045101865955827\n",
      "epoch: 73 test loss: 1.2300471901893615 test accuracy: 0.4395241477272728\n",
      "epoch: 74 train loss: 1.1180713100311084 train accuracy: 0.5002836221122112\n",
      "epoch: 74 test loss: 1.2302720963954925 test accuracy: 0.4436931818181818\n",
      "epoch: 75 train loss: 1.1102281235731566 train accuracy: 0.5007447559659812\n",
      "epoch: 75 test loss: 1.2315455973148346 test accuracy: 0.438359375\n",
      "epoch: 76 train loss: 1.1123927258528197 train accuracy: 0.5030682755775577\n",
      "epoch: 76 test loss: 1.2270919024944305 test accuracy: 0.4470596590909091\n",
      "epoch: 77 train loss: 1.1121522058279087 train accuracy: 0.4987147753236862\n",
      "epoch: 77 test loss: 1.2289815485477447 test accuracy: 0.44227272727272726\n",
      "epoch: 78 train loss: 1.1076782873043647 train accuracy: 0.5020666730134552\n",
      "epoch: 78 test loss: 1.229538881778717 test accuracy: 0.4358948863636364\n",
      "epoch: 79 train loss: 1.1130536962778141 train accuracy: 0.5013923267326732\n",
      "epoch: 79 test loss: 1.2302715241909028 test accuracy: 0.4374573863636364\n",
      "epoch: 80 train loss: 1.109861862200957 train accuracy: 0.5022203842980452\n",
      "epoch: 80 test loss: 1.2274551749229432 test accuracy: 0.44251420454545454\n",
      "epoch: 81 train loss: 1.107779718362368 train accuracy: 0.5055326145595329\n",
      "epoch: 81 test loss: 1.2275594532489777 test accuracy: 0.44303977272727274\n",
      "epoch: 82 train loss: 1.110424028757291 train accuracy: 0.5082032241685707\n",
      "epoch: 82 test loss: 1.229728764295578 test accuracy: 0.44096590909090916\n",
      "epoch: 83 train loss: 1.1120872925489376 train accuracy: 0.4990688071210967\n",
      "epoch: 83 test loss: 1.230912047624588 test accuracy: 0.4400568181818182\n",
      "epoch: 84 train loss: 1.1012318783845656 train accuracy: 0.5077351485148515\n",
      "epoch: 84 test loss: 1.2276532411575318 test accuracy: 0.4449786931818182\n",
      "epoch: 85 train loss: 1.1062343594355462 train accuracy: 0.5106873968646864\n",
      "epoch: 85 test loss: 1.2283808827400207 test accuracy: 0.4470596590909091\n",
      "epoch: 86 train loss: 1.1024984067831285 train accuracy: 0.5074088839172379\n",
      "epoch: 86 test loss: 1.2353532493114472 test accuracy: 0.4347372159090909\n",
      "epoch: 87 train loss: 1.107769896586736 train accuracy: 0.5058658209570956\n",
      "epoch: 87 test loss: 1.2294371247291564 test accuracy: 0.439921875\n",
      "epoch: 88 train loss: 1.1045197454782634 train accuracy: 0.5073682248032495\n",
      "epoch: 88 test loss: 1.231350600719452 test accuracy: 0.4412215909090909\n",
      "epoch: 89 train loss: 1.0986838936805725 train accuracy: 0.5120420395404925\n",
      "epoch: 89 test loss: 1.2289506196975708 test accuracy: 0.4405681818181818\n",
      "epoch: 90 train loss: 1.0978322113171601 train accuracy: 0.5097393453287636\n",
      "epoch: 90 test loss: 1.2288989782333375 test accuracy: 0.4457599431818182\n",
      "epoch: 91 train loss: 1.0977476040522258 train accuracy: 0.514613480578827\n",
      "epoch: 91 test loss: 1.2288251221179962 test accuracy: 0.44004261363636366\n",
      "epoch: 92 train loss: 1.1007646933580055 train accuracy: 0.5129107562198527\n",
      "epoch: 92 test loss: 1.2324223339557647 test accuracy: 0.43705965909090916\n",
      "epoch: 93 train loss: 1.0973620957288988 train accuracy: 0.5081427313404417\n",
      "epoch: 93 test loss: 1.22697394490242 test accuracy: 0.4386150568181818\n",
      "epoch: 94 train loss: 1.1028054509407434 train accuracy: 0.5070479103198782\n",
      "epoch: 94 test loss: 1.2276375889778137 test accuracy: 0.4377059659090909\n",
      "epoch: 95 train loss: 1.0902732350887396 train accuracy: 0.5132647880172633\n",
      "epoch: 95 test loss: 1.2298020482063294 test accuracy: 0.44276988636363634\n",
      "epoch: 96 train loss: 1.0914916831713457 train accuracy: 0.510520793665905\n",
      "epoch: 96 test loss: 1.232357567548752 test accuracy: 0.43524857954545454\n",
      "epoch: 97 train loss: 1.1044272986742167 train accuracy: 0.5083777608530083\n",
      "epoch: 97 test loss: 1.2292061030864716 test accuracy: 0.4401704545454545\n",
      "epoch: 98 train loss: 1.100519495132642 train accuracy: 0.504644064166032\n",
      "epoch: 98 test loss: 1.2309816241264344 test accuracy: 0.44251420454545454\n",
      "epoch: 99 train loss: 1.0970040009571955 train accuracy: 0.513010916476263\n",
      "epoch: 99 test loss: 1.2304595947265624 test accuracy: 0.44213068181818177\n"
     ]
    }
   ],
   "source": [
    "num_epoch = 100\n",
    "train_losses = []\n",
    "test_losses = []\n",
    "train_accs = []\n",
    "test_accs= []\n",
    "\n",
    "for epoch in range(num_epoch):\n",
    "    pred_train, train_loss, train_acc = train(epoch, vgg16, train_loader)\n",
    "    train_losses.append(train_loss)\n",
    "    train_accs.append(train_acc)\n",
    "    \n",
    "    pred_test, test_loss, test_acc = test(epoch, vgg16, test_loader)\n",
    "    test_losses.append(test_loss)\n",
    "    test_accs.append(test_acc)\n",
    "    \n",
    "    print(\"epoch:\",epoch,\"train loss:\", train_loss, \"train accuracy:\", train_acc)\n",
    "    print(\"epoch:\",epoch,\"test loss:\", test_loss, \"test accuracy:\", test_acc)"
   ]
  },
  {
   "cell_type": "code",
   "execution_count": 49,
   "id": "sixth-tooth",
   "metadata": {},
   "outputs": [
    {
     "name": "stdout",
     "output_type": "stream",
     "text": [
      "Finished Training\n"
     ]
    }
   ],
   "source": [
    "print('Finished Training')\n",
    "PATH = './Project_Task2_VGG16_100epoch_lr0001_dropout.pkl'\n",
    "torch.save(model, PATH)"
   ]
  },
  {
   "cell_type": "code",
   "execution_count": 50,
   "id": "vital-helping",
   "metadata": {},
   "outputs": [],
   "source": [
    "np.save('train_losses_VGG16_100epoch_dropout.npy', train_losses)\n",
    "np.save('train_errors_VGG16_100epoch_dropout.npy', train_errors)\n",
    "np.save('test_losses_VGG16_100epoch_dropout.npy', test_losses)\n",
    "np.save('test_errors_VGG16_100epoch_dropout.npy', test_errors)"
   ]
  },
  {
   "cell_type": "code",
   "execution_count": 92,
   "id": "unlikely-cowboy",
   "metadata": {},
   "outputs": [
    {
     "data": {
      "image/png": "[encoded data removed]",
      "text/plain": [
       "<Figure size 576x360 with 1 Axes>"
      ]
     },
     "metadata": {
      "needs_background": "light"
     },
     "output_type": "display_data"
    },
    {
     "data": {
      "image/png": "[encoded data removed]",
      "text/plain": [
       "<Figure size 576x360 with 1 Axes>"
      ]
     },
     "metadata": {
      "needs_background": "light"
     },
     "output_type": "display_data"
    }
   ],
   "source": [
    "#Plot Train and Validation Loss \n",
    "figure = plt.figure(figsize = [8, 5])\n",
    "plt.plot(np.arange(len(train_losses[:])),train_losses[:], label='Training', linewidth=5)\n",
    "plt.plot(np.arange(len(test_losses[:])),test_losses[:], label='Validation', linewidth=5)\n",
    "plt.legend(fontsize=15)\n",
    "plt.ylabel('Loss',fontsize=25)\n",
    "plt.xlabel('Epochs',fontsize=25)\n",
    "plt.title(\"Learning rate =\" + str(0.0001),fontsize=25)\n",
    "plt.savefig('./Task2_VGG16_loss.png')\n",
    "plt.show() \n",
    "\n",
    "#Plot Train and Validation Errors\n",
    "figure = plt.figure(figsize = [8, 5])\n",
    "plt.plot(np.arange(len(train_accs[:])),train_accs[:], label='Training', linewidth=5)\n",
    "plt.plot(np.arange(len(test_accs[:])),test_accs[:], label='Validation', linewidth=5)\n",
    "plt.legend(fontsize=15)\n",
    "plt.ylabel('Error',fontsize=25)\n",
    "plt.xlabel('Epochs',fontsize=25)\n",
    "plt.title(\"Learning rate =\" + str(0.0001),fontsize=25)\n",
    "plt.savefig('./Task2_VGG16_error.png')\n",
    "plt.show() "
   ]
  },
  {
   "cell_type": "code",
   "execution_count": null,
   "id": "sudden-layout",
   "metadata": {},
   "outputs": [],
   "source": []
  },
  {
   "cell_type": "code",
   "execution_count": null,
   "id": "uniform-serial",
   "metadata": {},
   "outputs": [],
   "source": []
  },
  {
   "cell_type": "code",
   "execution_count": null,
   "id": "exact-blair",
   "metadata": {},
   "outputs": [],
   "source": [
    "\n"
   ]
  },
  {
   "cell_type": "code",
   "execution_count": null,
   "id": "metropolitan-arrow",
   "metadata": {},
   "outputs": [],
   "source": []
  }
 ],
 "metadata": {
  "kernelspec": {
   "display_name": "Python 3",
   "language": "python",
   "name": "python3"
  },
  "language_info": {
   "codemirror_mode": {
    "name": "ipython",
    "version": 3
   },
   "file_extension": ".py",
   "mimetype": "text/x-python",
   "name": "python",
   "nbconvert_exporter": "python",
   "pygments_lexer": "ipython3",
   "version": "3.7.7"
  }
 },
 "nbformat": 4,
 "nbformat_minor": 5
}
