{
 "cells": [
  {
   "cell_type": "code",
   "execution_count": 3,
   "id": "silent-vienna",
   "metadata": {},
   "outputs": [],
   "source": [
    "import numpy as np\n",
    "import pandas as pd\n",
    "import sklearn\n",
    "import itertools\n",
    "import cv2\n",
    "import scipy\n",
    "import os\n",
    "import csv\n",
    "import matplotlib.pyplot as plt\n",
    "import xml.etree.ElementTree as ET\n",
    "from PIL import Image\n",
    "from tqdm import tqdm\n",
    "import scipy\n",
    "from skimage.transform import resize\n",
    "from keras.utils.np_utils import to_categorical\n",
    "import seaborn as sns\n",
    "%matplotlib inline\n",
    "#############\n",
    "from sklearn.preprocessing import LabelEncoder\n",
    "from sklearn.metrics import accuracy_score, classification_report, f1_score, precision_score, recall_score\n",
    "#######################\n",
    "import torch\n",
    "import torch.nn as nn\n",
    "import torch.nn.functional as F\n",
    "import torch.optim as optim\n",
    "import torchvision.transforms as transforms\n",
    "from torch.autograd import Variable\n",
    "from torch.utils.data import TensorDataset, DataLoader\n",
    "from torch.utils.data import Dataset\n",
    "import torchvision.models as models\n",
    "from torch.optim.lr_scheduler import MultiStepLR\n",
    "device = torch.device(\"cuda:0\" if torch.cuda.is_available() else \"cpu\")"
   ]
  },
  {
   "cell_type": "code",
   "execution_count": 4,
   "id": "unauthorized-egyptian",
   "metadata": {},
   "outputs": [],
   "source": [
    "#WBC Blood Cell Classification:\n",
    "dict_characters = {1:'NEUTROPHIL',2:'EOSINOPHIL',3:'MONOCYTE',4:'LYMPHOCYTE'}\n",
    "dict_characters2 = {0:'Mononuclear',1:'Polynuclear'}"
   ]
  },
  {
   "cell_type": "code",
   "execution_count": null,
   "id": "wireless-rabbit",
   "metadata": {},
   "outputs": [],
   "source": []
  },
  {
   "cell_type": "markdown",
   "id": "behind-creek",
   "metadata": {},
   "source": [
    "## Augmented data (rotated, zoom-in + zoom-out, random crop, etc.) to make it balanced"
   ]
  },
  {
   "cell_type": "code",
   "execution_count": null,
   "id": "dangerous-board",
   "metadata": {},
   "outputs": [
    {
     "name": "stderr",
     "output_type": "stream",
     "text": [
      "100%|█████████████████████████████████████████████████████████████████████████████| 2497/2497 [00:21<00:00, 114.66it/s]\n",
      "100%|█████████████████████████████████████████████████████████████████████████████| 2483/2483 [00:22<00:00, 111.49it/s]\n",
      "100%|██████████████████████████████████████████████████████████████████████████████| 2478/2478 [00:28<00:00, 85.68it/s]\n",
      "100%|██████████████████████████████████████████████████████████████████████████████| 2499/2499 [01:00<00:00, 41.64it/s]\n"
     ]
    }
   ],
   "source": [
    "from tqdm import tqdm\n",
    "def get_data(folder):\n",
    "    X = []\n",
    "    y = []\n",
    "    z = []\n",
    "    for wbc_type in os.listdir(folder):\n",
    "        if not wbc_type.startswith('.'):\n",
    "            if wbc_type in ['NEUTROPHIL']:\n",
    "                label = 1\n",
    "                label2 = 1\n",
    "            elif wbc_type in ['EOSINOPHIL']:\n",
    "                label = 2\n",
    "                label2 = 1\n",
    "            elif wbc_type in ['MONOCYTE']:\n",
    "                label = 3  \n",
    "                label2 = 0\n",
    "            elif wbc_type in ['LYMPHOCYTE']:\n",
    "                label = 4 \n",
    "                label2 = 0\n",
    "            else:\n",
    "                label = 5\n",
    "                label2 = 0\n",
    "            for image_filename in tqdm(os.listdir(folder + wbc_type)):\n",
    "                img_file = cv2.imread(folder + wbc_type + '/' + image_filename)\n",
    "                if img_file is not None:\n",
    "#                     img_file = Image.fromarray(img_file).resize(size=(60,80,3))\n",
    "#                     img_file = resize(img_file, (60,80,3)) #reduce the size of the picture\n",
    "                    img_file = resize(img_file, (120,160,3)) #reduce the size of the picture\n",
    "                    img_arr = np.asarray(img_file)\n",
    "                    X.append(img_arr)\n",
    "                    y.append(label)\n",
    "                    z.append(label2)\n",
    "    X = np.asarray(X)\n",
    "    y = np.asarray(y)\n",
    "    z = np.asarray(z)\n",
    "    return X,y,z\n",
    "\n",
    "X_train, y_train, z_train = get_data('data/dataset2-master/dataset2-master/images/TRAIN/')\n",
    "X_test, y_test, z_test = get_data('data/dataset2-master/dataset2-master/images/TEST/')\n",
    "\n",
    "# Encode labels to hot vectors (ex : 2 -> [0,0,1,0,0,0,0,0,0,0])\n",
    "y_trainHot = to_categorical(y_train, num_classes = 5)\n",
    "y_testHot = to_categorical(y_test, num_classes = 5)\n",
    "z_trainHot = to_categorical(z_train, num_classes = 2)\n",
    "z_testHot = to_categorical(z_test, num_classes = 2)\n",
    "print(dict_characters)\n",
    "print(dict_characters2)"
   ]
  },
  {
   "cell_type": "code",
   "execution_count": 6,
   "id": "oriental-sense",
   "metadata": {},
   "outputs": [],
   "source": [
    "X_train = np.load('X_train.npy')\n",
    "X_test = np.load('X_test.npy')\n",
    "y_train = np.load('y_train.npy')\n",
    "y_test = np.load('y_test.npy')"
   ]
  },
  {
   "cell_type": "code",
   "execution_count": 116,
   "id": "advance-offer",
   "metadata": {},
   "outputs": [
    {
     "name": "stderr",
     "output_type": "stream",
     "text": [
      "C:\\Users\\parshinshojaee\\Anaconda3\\lib\\site-packages\\seaborn\\_decorators.py:43: FutureWarning: Pass the following variable as a keyword arg: x. From version 0.12, the only valid positional argument will be `data`, and passing other arguments without an explicit keyword will result in an error or misinterpretation.\n",
      "  FutureWarning\n"
     ]
    },
    {
     "name": "stdout",
     "output_type": "stream",
     "text": [
      "{1: 'NEUTROPHIL', 2: 'EOSINOPHIL', 3: 'MONOCYTE', 4: 'LYMPHOCYTE'}\n"
     ]
    },
    {
     "data": {
      "image/png": "[encoded data removed]",
      "text/plain": [
       "<Figure size 432x288 with 1 Axes>"
      ]
     },
     "metadata": {
      "needs_background": "light"
     },
     "output_type": "display_data"
    }
   ],
   "source": [
    "df = pd.DataFrame()\n",
    "df[\"labels\"]=y_train\n",
    "lab = df['labels']\n",
    "dist = lab.value_counts()\n",
    "sns.countplot(lab)\n",
    "print(dict_characters)"
   ]
  },
  {
   "cell_type": "code",
   "execution_count": 71,
   "id": "express-islam",
   "metadata": {},
   "outputs": [],
   "source": [
    "# # Covert Augmented Data to Torch\n",
    "# X_train_torch = torch.from_numpy(X_train)\n",
    "# X_train_torch = X_train_torch.reshape((X_train_torch.shape[0], 3,X_train_torch.shape[1],X_train_torch.shape[2]))\n",
    "# y_train_torch = torch.from_numpy(y_train-1)\n",
    "# z_train_torch = torch.from_numpy(z_train)\n",
    "\n",
    "# X_test_torch = torch.from_numpy(X_test)\n",
    "# X_test_torch = X_test_torch.reshape((X_test_torch.shape[0],3,X_test_torch.shape[1],X_test_torch.shape[2]))\n",
    "# y_test_torch = torch.from_numpy(y_test-1)\n",
    "# z_test_torch = torch.from_numpy(z_test)\n",
    "\n",
    "# trainset_y = TensorDataset(X_train_torch, y_train_torch)\n",
    "# trainset_z = TensorDataset(X_train_torch, z_train_torch)\n",
    "# testset_y = TensorDataset(X_test_torch, y_test_torch)\n",
    "# testset_z = TensorDataset(X_test_torch, z_test_torch)\n",
    "\n",
    "# #Torch Data Loader:\n",
    "# train_minibatch_size = 64\n",
    "# test_minibatch_size = 128\n",
    "# train_loader = DataLoader(trainset_y, batch_size = train_minibatch_size, shuffle = True)\n",
    "# test_loader = DataLoader(testset_y, batch_size = test_minibatch_size, shuffle = True)"
   ]
  },
  {
   "cell_type": "code",
   "execution_count": 1,
   "id": "armed-garlic",
   "metadata": {},
   "outputs": [
    {
     "ename": "NameError",
     "evalue": "name 'Dataset' is not defined",
     "output_type": "error",
     "traceback": [
      "\u001b[1;31m---------------------------------------------------------------------------\u001b[0m",
      "\u001b[1;31mNameError\u001b[0m                                 Traceback (most recent call last)",
      "\u001b[1;32m<ipython-input-1-6584173b7d7a>\u001b[0m in \u001b[0;36m<module>\u001b[1;34m\u001b[0m\n\u001b[1;32m----> 1\u001b[1;33m \u001b[1;32mclass\u001b[0m \u001b[0mBloodDataset\u001b[0m\u001b[1;33m(\u001b[0m\u001b[0mDataset\u001b[0m\u001b[1;33m)\u001b[0m\u001b[1;33m:\u001b[0m\u001b[1;33m\u001b[0m\u001b[1;33m\u001b[0m\u001b[0m\n\u001b[0m\u001b[0;32m      2\u001b[0m     \u001b[1;32mdef\u001b[0m \u001b[0m__init__\u001b[0m\u001b[1;33m(\u001b[0m\u001b[0mself\u001b[0m\u001b[1;33m,\u001b[0m \u001b[0mimages\u001b[0m\u001b[1;33m,\u001b[0m \u001b[0mlabels\u001b[0m\u001b[1;33m,\u001b[0m \u001b[0mtransform\u001b[0m\u001b[1;33m=\u001b[0m\u001b[1;32mNone\u001b[0m\u001b[1;33m)\u001b[0m\u001b[1;33m:\u001b[0m\u001b[1;33m\u001b[0m\u001b[1;33m\u001b[0m\u001b[0m\n\u001b[0;32m      3\u001b[0m         \u001b[0mself\u001b[0m\u001b[1;33m.\u001b[0m\u001b[0mimages\u001b[0m \u001b[1;33m=\u001b[0m \u001b[0mimages\u001b[0m\u001b[1;33m\u001b[0m\u001b[1;33m\u001b[0m\u001b[0m\n\u001b[0;32m      4\u001b[0m         \u001b[0mself\u001b[0m\u001b[1;33m.\u001b[0m\u001b[0mlabels\u001b[0m \u001b[1;33m=\u001b[0m \u001b[0mlabels\u001b[0m\u001b[1;33m\u001b[0m\u001b[1;33m\u001b[0m\u001b[0m\n\u001b[0;32m      5\u001b[0m         \u001b[0mself\u001b[0m\u001b[1;33m.\u001b[0m\u001b[0mtransform\u001b[0m \u001b[1;33m=\u001b[0m \u001b[0mtransform\u001b[0m\u001b[1;33m\u001b[0m\u001b[1;33m\u001b[0m\u001b[0m\n",
      "\u001b[1;31mNameError\u001b[0m: name 'Dataset' is not defined"
     ]
    }
   ],
   "source": [
    "class BloodDataset(Dataset):\n",
    "    def __init__(self, images, labels, transform=None):\n",
    "        self.images = images\n",
    "        self.labels = labels\n",
    "        self.transform = transform\n",
    "        \n",
    "    def __len__(self):\n",
    "        return len(self.labels)\n",
    "    \n",
    "    def __getitem__(self, idx):\n",
    "        if self.transform:\n",
    "            return self.transform(self.images[idx]), self.labels[idx]\n",
    "        return self.images[idx], self.labels[idx]"
   ]
  },
  {
   "cell_type": "code",
   "execution_count": 16,
   "id": "handled-memphis",
   "metadata": {},
   "outputs": [],
   "source": [
    "tfms = transforms.Compose([transforms.ToTensor()])\n",
    "train = BloodDataset(X_train, y_train-1, transform=tfms)\n",
    "#normalize the input data\n",
    "mean = tuple((X_train.mean(axis=(0,1,2))/255).round(4))\n",
    "std = tuple((X_train.std(axis=(0,1,2))/255).round(4))\n",
    "tfms = transforms.Compose([transforms.ToTensor(),\n",
    "                           transforms.Normalize(mean, std)])\n",
    "train = BloodDataset(X_train, y_train-1, transform=tfms)\n",
    "#####################################\n",
    "tfms = transforms.Compose([transforms.ToTensor()])\n",
    "test = BloodDataset(X_test, y_test-1, transform=tfms)\n",
    "mean = tuple((X_test.std(axis=(0,1,2))/255).round(4))\n",
    "std = tuple((X_test.std(axis=(0,1,2))/255).round(4))\n",
    "tfms = transforms.Compose([transforms.ToTensor(),\n",
    "                            transforms.Normalize(mean, std)])\n",
    "test = BloodDataset(X_test, y_test-1, transform=tfms)\n",
    "##################################\n",
    "batch_size = 128\n",
    "test_size = 128\n",
    "train_loader = DataLoader(train, batch_size=batch_size, shuffle=True)\n",
    "test_loader = DataLoader(test, batch_size=test_size, shuffle=True)"
   ]
  },
  {
   "cell_type": "markdown",
   "id": "diagnostic-vegetarian",
   "metadata": {},
   "source": [
    "# Task2 : Classification of different cell types"
   ]
  },
  {
   "cell_type": "code",
   "execution_count": 10,
   "id": "accepting-wilson",
   "metadata": {},
   "outputs": [],
   "source": [
    "#Train Function:\n",
    "def train(epoch, model, train_loader):\n",
    "    model.train()\n",
    "    \n",
    "    train_nb_batch = len(train_loader)\n",
    "    train_loss = 0.0\n",
    "    train_batch_loss = 0.0\n",
    "    train_total_loss = 0.0\n",
    "    train_acc = 0.0\n",
    "    train_batch_acc = 0.0\n",
    "    train_total_acc = 0.0\n",
    "    ####################################\n",
    "    for i, (minibatch_X, minibatch_y) in enumerate(train_loader):\n",
    "        minibatch_X = minibatch_X.float().to(device)\n",
    "        minibatch_y = minibatch_y.long().to(device)\n",
    "        #zero that gradients buffer\n",
    "        optimizer.zero_grad()\n",
    "        #forward + backward + optimize\n",
    "        outputs = model(minibatch_X)\n",
    "        loss = criterion(outputs, minibatch_y)\n",
    "        loss.backward()\n",
    "        optimizer.step()\n",
    "\n",
    "        train_batch_loss = loss.item()\n",
    "        train_total_loss += train_batch_loss\n",
    "        pred_batch_train = outputs.data.max(1, keepdim=True)[1]\n",
    "        if i == 0 :\n",
    "            pred_train = pred_batch_train\n",
    "        if i >0:\n",
    "            pred_train = torch.cat([pred_train, pred_batch_train], dim=0)\n",
    "        train_batch_acc = accuracy_score(pred_batch_train,minibatch_y)\n",
    "        train_total_acc += train_batch_acc\n",
    "        \n",
    "    train_loss = train_total_loss/train_nb_batch\n",
    "    train_acc = train_total_acc/train_nb_batch\n",
    "    scheduler.step()\n",
    "    return pred_train, train_loss, train_acc"
   ]
  },
  {
   "cell_type": "code",
   "execution_count": 11,
   "id": "minimal-gilbert",
   "metadata": {},
   "outputs": [],
   "source": [
    "def test(epoch, model, test_loader):\n",
    "    model.eval()\n",
    "    \n",
    "    test_nb_batch = len(test_loader)\n",
    "    test_loss = 0.0\n",
    "    test_batch_loss = 0.0\n",
    "    test_total_loss = 0.0\n",
    "    test_acc = 0.0\n",
    "    test_batch_acc = 0.0\n",
    "    test_total_acc = 0.0\n",
    "    ####################################\n",
    "    for i, (minibatch_X, minibatch_y) in enumerate(test_loader):\n",
    "        minibatch_X = minibatch_X.float().to(device)\n",
    "        minibatch_y = minibatch_y.long().to(device)\n",
    "        outputs = model(minibatch_X)\n",
    "        loss = criterion(outputs, minibatch_y)\n",
    "        test_batch_loss = loss.item()\n",
    "        test_total_loss += test_batch_loss\n",
    "        pred_batch_test = outputs.data.max(1, keepdim=True)[1]\n",
    "        if i == 0 :\n",
    "            pred_test = pred_batch_test\n",
    "        if i >0:\n",
    "            pred_test = torch.cat([pred_test, pred_batch_test], dim=0)\n",
    "        test_batch_acc = accuracy_score(pred_batch_test,minibatch_y)\n",
    "        test_total_acc += test_batch_acc\n",
    "    test_loss = test_total_loss/test_nb_batch\n",
    "    test_acc = test_total_acc/test_nb_batch\n",
    "    return pred_test, test_loss, test_acc"
   ]
  },
  {
   "cell_type": "markdown",
   "id": "declared-activation",
   "metadata": {},
   "source": [
    "### ResNet50:"
   ]
  },
  {
   "cell_type": "code",
   "execution_count": 12,
   "id": "compressed-horizon",
   "metadata": {},
   "outputs": [],
   "source": [
    "class ResNet50(nn.Module):\n",
    "    def __init__(self,embed_size):\n",
    "        super(ResNet50, self).__init__()\n",
    "        resnet = models.resnet50(pretrained=True)\n",
    "        for param in resnet.parameters():\n",
    "            param.requires_grad_(False)\n",
    "        modules = list(resnet.children())[:-1]\n",
    "        self.resnet = nn.Sequential(*modules)\n",
    "        self.fc1 = nn.Linear(resnet.fc.in_features, 4)\n",
    "        self.fc2 = nn.Linear(64, embed_size)\n",
    "        self.drop_layer = nn.Dropout(0.4)\n",
    "\n",
    "    def forward(self, images):\n",
    "        features = self.resnet(images)        \n",
    "        features = features.view(features.size(0), -1)   \n",
    "        features = self.drop_layer(features)   \n",
    "        features = self.fc1(features)  \n",
    "#         features = self.drop_layer(features)\n",
    "#         features = self.fc2(features) \n",
    "        return features"
   ]
  },
  {
   "cell_type": "code",
   "execution_count": 13,
   "id": "economic-husband",
   "metadata": {},
   "outputs": [],
   "source": [
    "n_classes = 4\n",
    "model = ResNet50(n_classes)\n",
    "criterion = nn.CrossEntropyLoss()\n",
    "lr = 0.01\n",
    "optimizer = optim.Adam(model.parameters(), lr=lr)\n",
    "scheduler = MultiStepLR(optimizer, milestones=[5,10,20,30,40,60,80], gamma=0.5)\n",
    "# optimizer = optim.Adam(model.parameters(), lr=0.0001)\n",
    "# optimizer = optim.Adam(model.parameters(), lr=0.001, weight_decay=0.001)"
   ]
  },
  {
   "cell_type": "code",
   "execution_count": 17,
   "id": "great-affair",
   "metadata": {},
   "outputs": [
    {
     "ename": "TypeError",
     "evalue": "'BloodDataset' object is not callable",
     "output_type": "error",
     "traceback": [
      "\u001b[1;31m---------------------------------------------------------------------------\u001b[0m",
      "\u001b[1;31mTypeError\u001b[0m                                 Traceback (most recent call last)",
      "\u001b[1;32m<ipython-input-17-dfb75b998c44>\u001b[0m in \u001b[0;36m<module>\u001b[1;34m\u001b[0m\n\u001b[0;32m      7\u001b[0m \u001b[1;33m\u001b[0m\u001b[0m\n\u001b[0;32m      8\u001b[0m \u001b[1;32mfor\u001b[0m \u001b[0mepoch\u001b[0m \u001b[1;32min\u001b[0m \u001b[0mrange\u001b[0m\u001b[1;33m(\u001b[0m\u001b[0mnum_epoch\u001b[0m\u001b[1;33m)\u001b[0m\u001b[1;33m:\u001b[0m\u001b[1;33m\u001b[0m\u001b[1;33m\u001b[0m\u001b[0m\n\u001b[1;32m----> 9\u001b[1;33m     \u001b[0mpred_train\u001b[0m\u001b[1;33m,\u001b[0m \u001b[0mtrain_loss\u001b[0m\u001b[1;33m,\u001b[0m \u001b[0mtrain_acc\u001b[0m \u001b[1;33m=\u001b[0m \u001b[0mtrain\u001b[0m\u001b[1;33m(\u001b[0m\u001b[0mepoch\u001b[0m\u001b[1;33m,\u001b[0m \u001b[0mmodel\u001b[0m\u001b[1;33m,\u001b[0m \u001b[0mtrain_loader\u001b[0m\u001b[1;33m)\u001b[0m\u001b[1;33m\u001b[0m\u001b[1;33m\u001b[0m\u001b[0m\n\u001b[0m\u001b[0;32m     10\u001b[0m     \u001b[0mtrain_losses\u001b[0m\u001b[1;33m.\u001b[0m\u001b[0mappend\u001b[0m\u001b[1;33m(\u001b[0m\u001b[0mtrain_loss\u001b[0m\u001b[1;33m)\u001b[0m\u001b[1;33m\u001b[0m\u001b[1;33m\u001b[0m\u001b[0m\n\u001b[0;32m     11\u001b[0m     \u001b[0mtrain_accs\u001b[0m\u001b[1;33m.\u001b[0m\u001b[0mappend\u001b[0m\u001b[1;33m(\u001b[0m\u001b[0mtrain_acc\u001b[0m\u001b[1;33m)\u001b[0m\u001b[1;33m\u001b[0m\u001b[1;33m\u001b[0m\u001b[0m\n",
      "\u001b[1;31mTypeError\u001b[0m: 'BloodDataset' object is not callable"
     ]
    }
   ],
   "source": [
    "num_epoch = 100\n",
    "\n",
    "train_losses = []\n",
    "test_losses = []\n",
    "train_accs = []\n",
    "test_accs= []\n",
    "\n",
    "for epoch in range(num_epoch):\n",
    "    pred_train, train_loss, train_acc = train(epoch, model, train_loader)\n",
    "    train_losses.append(train_loss)\n",
    "    train_accs.append(train_acc)\n",
    "    \n",
    "    pred_test, test_loss, test_acc = test(epoch, model, test_loader)\n",
    "    test_losses.append(test_loss)\n",
    "    test_accs.append(test_acc)\n",
    "    \n",
    "    print(\"epoch:\",epoch,\"train loss:\", train_loss, \"train accuracy:\", train_acc)\n",
    "    print(\"epoch:\",epoch,\"test loss:\", test_loss, \"test accuracy:\", test_acc)"
   ]
  },
  {
   "cell_type": "code",
   "execution_count": 53,
   "id": "heavy-plate",
   "metadata": {},
   "outputs": [
    {
     "name": "stdout",
     "output_type": "stream",
     "text": [
      "Finished Training\n"
     ]
    }
   ],
   "source": [
    "print('Finished Training')\n",
    "PATH = './Project_Task2_ResNet50_100epoch_lr0001_nodropout.pkl'\n",
    "torch.save(model, PATH)"
   ]
  },
  {
   "cell_type": "code",
   "execution_count": 58,
   "id": "amended-conditions",
   "metadata": {},
   "outputs": [],
   "source": [
    "np.save('train_losses_ResNet50_100epoch_dropout.npy', train_losses)\n",
    "np.save('train_errors_ResNet50_100epoch_dropout.npy', train_errors)\n",
    "np.save('test_losses_ResNet50_100epoch_dropout.npy', test_losses)\n",
    "np.save('test_errors_ResNet50_100epoch_dropout.npy', test_errors)"
   ]
  },
  {
   "cell_type": "code",
   "execution_count": 106,
   "id": "binding-native",
   "metadata": {},
   "outputs": [
    {
     "data": {
      "image/png": "[encoded data removed]",
      "text/plain": [
       "<Figure size 576x360 with 1 Axes>"
      ]
     },
     "metadata": {
      "needs_background": "light"
     },
     "output_type": "display_data"
    },
    {
     "data": {
      "image/png": "[encoded data removed]",
      "text/plain": [
       "<Figure size 576x360 with 1 Axes>"
      ]
     },
     "metadata": {
      "needs_background": "light"
     },
     "output_type": "display_data"
    }
   ],
   "source": [
    "#Plot Train and Validation Loss \n",
    "figure = plt.figure(figsize = [8, 5])\n",
    "plt.plot(np.arange(len(train_losses[:])),train_losses[:], label='Training', linewidth=5)\n",
    "plt.plot(np.arange(len(test_losses[:])),test_losses[:], label='Validation', linewidth=5)\n",
    "plt.legend(fontsize=15)\n",
    "plt.ylabel('Loss',fontsize=25)\n",
    "plt.xlabel('Epochs',fontsize=25)\n",
    "plt.title(\"Learning rate =\" + str(0.0001),fontsize=25)\n",
    "plt.savefig('./Task2_Arch1_loss.png')\n",
    "plt.show() \n",
    "\n",
    "#Plot Train and Validation Errors\n",
    "figure = plt.figure(figsize = [8, 5])\n",
    "plt.plot(np.arange(len(train_accs[:])),train_accs[:], label='Training', linewidth=5)\n",
    "plt.plot(np.arange(len(test_accs[:])),test_accs[:], label='Validation', linewidth=5)\n",
    "plt.legend(fontsize=15)\n",
    "plt.ylabel('Error',fontsize=25)\n",
    "plt.xlabel('Epochs',fontsize=25)\n",
    "plt.title(\"Learning rate =\" + str(0.0001),fontsize=25)\n",
    "plt.savefig('./Task2_Arch1_error.png')\n",
    "plt.show() "
   ]
  },
  {
   "cell_type": "code",
   "execution_count": null,
   "id": "inner-nutrition",
   "metadata": {},
   "outputs": [],
   "source": []
  },
  {
   "cell_type": "code",
   "execution_count": null,
   "id": "authentic-cycling",
   "metadata": {},
   "outputs": [],
   "source": []
  },
  {
   "cell_type": "code",
   "execution_count": null,
   "id": "exact-blair",
   "metadata": {},
   "outputs": [],
   "source": [
    "\n"
   ]
  },
  {
   "cell_type": "code",
   "execution_count": null,
   "id": "metropolitan-arrow",
   "metadata": {},
   "outputs": [],
   "source": []
  }
 ],
 "metadata": {
  "kernelspec": {
   "display_name": "Python 3",
   "language": "python",
   "name": "python3"
  },
  "language_info": {
   "codemirror_mode": {
    "name": "ipython",
    "version": 3
   },
   "file_extension": ".py",
   "mimetype": "text/x-python",
   "name": "python",
   "nbconvert_exporter": "python",
   "pygments_lexer": "ipython3",
   "version": "3.7.7"
  }
 },
 "nbformat": 4,
 "nbformat_minor": 5
}
