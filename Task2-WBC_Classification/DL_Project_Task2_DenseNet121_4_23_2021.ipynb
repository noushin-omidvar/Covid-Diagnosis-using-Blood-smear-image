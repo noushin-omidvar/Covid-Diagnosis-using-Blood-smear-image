{
 "cells": [
  {
   "cell_type": "code",
   "execution_count": 2,
   "id": "silent-vienna",
   "metadata": {},
   "outputs": [],
   "source": [
    "import numpy as np\n",
    "import pandas as pd\n",
    "import sklearn\n",
    "import itertools\n",
    "import cv2\n",
    "import scipy\n",
    "import os\n",
    "import csv\n",
    "import matplotlib.pyplot as plt\n",
    "import xml.etree.ElementTree as ET\n",
    "from PIL import Image\n",
    "from tqdm import tqdm\n",
    "import scipy\n",
    "from skimage.transform import resize\n",
    "from keras.utils.np_utils import to_categorical\n",
    "import seaborn as sns\n",
    "%matplotlib inline\n",
    "#############\n",
    "from sklearn.preprocessing import LabelEncoder\n",
    "from sklearn.metrics import accuracy_score, classification_report, f1_score, precision_score, recall_score\n",
    "#######################\n",
    "import torch\n",
    "import torch.nn as nn\n",
    "import torch.nn.functional as F\n",
    "import torch.optim as optim\n",
    "import torchvision.transforms as transforms\n",
    "from torch.autograd import Variable\n",
    "from torch.utils.data import TensorDataset, DataLoader\n",
    "from torch.utils.data import Dataset\n",
    "import torchvision.models as models\n",
    "from torch.optim.lr_scheduler import MultiStepLR\n",
    "device = torch.device(\"cuda:0\" if torch.cuda.is_available() else \"cpu\")"
   ]
  },
  {
   "cell_type": "code",
   "execution_count": 5,
   "id": "unauthorized-egyptian",
   "metadata": {},
   "outputs": [],
   "source": [
    "#WBC Blood Cell Classification:\n",
    "dict_characters = {1:'NEUTROPHIL',2:'EOSINOPHIL',3:'MONOCYTE',4:'LYMPHOCYTE'}\n",
    "dict_characters2 = {0:'Mononuclear',1:'Polynuclear'}"
   ]
  },
  {
   "cell_type": "markdown",
   "id": "intimate-worker",
   "metadata": {},
   "source": [
    "## Original Data is unbalanced among different cell types (classes)"
   ]
  },
  {
   "cell_type": "code",
   "execution_count": 6,
   "id": "hydraulic-governor",
   "metadata": {},
   "outputs": [
    {
     "name": "stdout",
     "output_type": "stream",
     "text": [
      "[  3  88  33  21 207]\n"
     ]
    },
    {
     "name": "stderr",
     "output_type": "stream",
     "text": [
      "C:\\Users\\parshinshojaee\\Anaconda3\\lib\\site-packages\\ipykernel_launcher.py:18: UserWarning: FixedFormatter should only be used together with FixedLocator\n"
     ]
    },
    {
     "data": {
      "text/plain": [
       "Text(0, 0.5, 'Counts')"
      ]
     },
     "execution_count": 6,
     "metadata": {},
     "output_type": "execute_result"
    },
    {
     "data": {
      "image/png": "[encoded data removed]",
      "text/plain": [
       "<Figure size 432x288 with 1 Axes>"
      ]
     },
     "metadata": {
      "needs_background": "light"
     },
     "output_type": "display_data"
    }
   ],
   "source": [
    "reader = csv.reader(open('data/dataset2-master/dataset2-master/labels.csv'))\n",
    "# skip the header\n",
    "next(reader)\n",
    "X3 = []\n",
    "y3 = []\n",
    "for row in reader:\n",
    "    label = row[2]\n",
    "    if len(label) > 0 and label.find(',') == -1:\n",
    "        y3.append(label)\n",
    "y3 = np.asarray(y3)\n",
    "encoder = LabelEncoder()\n",
    "encoder.fit(y3)\n",
    "encoded_y = encoder.transform(y3)\n",
    "counts = np.bincount(encoded_y)\n",
    "print(counts)\n",
    "fig, ax = plt.subplots()\n",
    "plt.bar(list(range(5)), counts)\n",
    "ax.set_xticklabels(('', 'Basophil', 'Eosinophil', 'Lymphocyte', 'Monocyte', 'Neutrophil'))\n",
    "ax.set_ylabel('Counts')"
   ]
  },
  {
   "cell_type": "markdown",
   "id": "behind-creek",
   "metadata": {},
   "source": [
    "## Augmented data (rotated, zoom-in + zoom-out, random crop, etc.) to make it balanced"
   ]
  },
  {
   "cell_type": "code",
   "execution_count": 7,
   "id": "dangerous-board",
   "metadata": {},
   "outputs": [
    {
     "name": "stderr",
     "output_type": "stream",
     "text": [
      "100%|█████████████████████████████████████████████████████████████████████████████| 2497/2497 [00:18<00:00, 133.23it/s]\n",
      "100%|██████████████████████████████████████████████████████████████████████████████| 2483/2483 [00:57<00:00, 43.14it/s]\n",
      "100%|██████████████████████████████████████████████████████████████████████████████| 2478/2478 [00:48<00:00, 50.84it/s]\n",
      "100%|██████████████████████████████████████████████████████████████████████████████| 2499/2499 [01:00<00:00, 41.65it/s]\n",
      "100%|███████████████████████████████████████████████████████████████████████████████| 623/623 [00:05<00:00, 116.53it/s]\n",
      "100%|███████████████████████████████████████████████████████████████████████████████| 620/620 [00:05<00:00, 113.95it/s]\n",
      "100%|████████████████████████████████████████████████████████████████████████████████| 620/620 [00:18<00:00, 33.56it/s]\n",
      "100%|████████████████████████████████████████████████████████████████████████████████| 624/624 [00:22<00:00, 27.32it/s]\n"
     ]
    },
    {
     "name": "stdout",
     "output_type": "stream",
     "text": [
      "{1: 'NEUTROPHIL', 2: 'EOSINOPHIL', 3: 'MONOCYTE', 4: 'LYMPHOCYTE'}\n",
      "{0: 'Mononuclear', 1: 'Polynuclear'}\n"
     ]
    }
   ],
   "source": [
    "from tqdm import tqdm\n",
    "def get_data(folder):\n",
    "    X = []\n",
    "    y = []\n",
    "    z = []\n",
    "    for wbc_type in os.listdir(folder):\n",
    "        if not wbc_type.startswith('.'):\n",
    "            if wbc_type in ['NEUTROPHIL']:\n",
    "                label = 1\n",
    "                label2 = 1\n",
    "            elif wbc_type in ['EOSINOPHIL']:\n",
    "                label = 2\n",
    "                label2 = 1\n",
    "            elif wbc_type in ['MONOCYTE']:\n",
    "                label = 3  \n",
    "                label2 = 0\n",
    "            elif wbc_type in ['LYMPHOCYTE']:\n",
    "                label = 4 \n",
    "                label2 = 0\n",
    "            else:\n",
    "                label = 5\n",
    "                label2 = 0\n",
    "            for image_filename in tqdm(os.listdir(folder + wbc_type)):\n",
    "                img_file = cv2.imread(folder + wbc_type + '/' + image_filename)\n",
    "                if img_file is not None:\n",
    "#                     img_file = Image.fromarray(img_file).resize(size=(60,80,3))\n",
    "#                     img_file = resize(img_file, (60,80,3)) #reduce the size of the picture\n",
    "                    img_file = resize(img_file, (120,160,3)) #reduce the size of the picture\n",
    "                    img_arr = np.asarray(img_file)\n",
    "                    X.append(img_arr)\n",
    "                    y.append(label)\n",
    "                    z.append(label2)\n",
    "    X = np.asarray(X)\n",
    "    y = np.asarray(y)\n",
    "    z = np.asarray(z)\n",
    "    return X,y,z\n",
    "\n",
    "X_train, y_train, z_train = get_data('data/dataset2-master/dataset2-master/images/TRAIN/')\n",
    "X_test, y_test, z_test = get_data('data/dataset2-master/dataset2-master/images/TEST/')\n",
    "\n",
    "# Encode labels to hot vectors (ex : 2 -> [0,0,1,0,0,0,0,0,0,0])\n",
    "y_trainHot = to_categorical(y_train, num_classes = 5)\n",
    "y_testHot = to_categorical(y_test, num_classes = 5)\n",
    "z_trainHot = to_categorical(z_train, num_classes = 2)\n",
    "z_testHot = to_categorical(z_test, num_classes = 2)\n",
    "print(dict_characters)\n",
    "print(dict_characters2)"
   ]
  },
  {
   "cell_type": "code",
   "execution_count": 8,
   "id": "advance-offer",
   "metadata": {},
   "outputs": [
    {
     "name": "stderr",
     "output_type": "stream",
     "text": [
      "C:\\Users\\parshinshojaee\\Anaconda3\\lib\\site-packages\\seaborn\\_decorators.py:43: FutureWarning: Pass the following variable as a keyword arg: x. From version 0.12, the only valid positional argument will be `data`, and passing other arguments without an explicit keyword will result in an error or misinterpretation.\n",
      "  FutureWarning\n"
     ]
    },
    {
     "name": "stdout",
     "output_type": "stream",
     "text": [
      "{1: 'NEUTROPHIL', 2: 'EOSINOPHIL', 3: 'MONOCYTE', 4: 'LYMPHOCYTE'}\n"
     ]
    },
    {
     "data": {
      "image/png": "[encoded data removed]",
      "text/plain": [
       "<Figure size 432x288 with 1 Axes>"
      ]
     },
     "metadata": {
      "needs_background": "light"
     },
     "output_type": "display_data"
    }
   ],
   "source": [
    "df = pd.DataFrame()\n",
    "df[\"labels\"]=y_train\n",
    "lab = df['labels']\n",
    "dist = lab.value_counts()\n",
    "sns.countplot(lab)\n",
    "print(dict_characters)"
   ]
  },
  {
   "cell_type": "code",
   "execution_count": 9,
   "id": "express-islam",
   "metadata": {},
   "outputs": [],
   "source": [
    "# # Covert Augmented Data to Torch\n",
    "# X_train_torch = torch.from_numpy(X_train)\n",
    "# X_train_torch = X_train_torch.reshape((X_train_torch.shape[0], 3,X_train_torch.shape[1],X_train_torch.shape[2]))\n",
    "# y_train_torch = torch.from_numpy(y_train-1)\n",
    "# z_train_torch = torch.from_numpy(z_train)\n",
    "\n",
    "# X_test_torch = torch.from_numpy(X_test)\n",
    "# X_test_torch = X_test_torch.reshape((X_test_torch.shape[0],3,X_test_torch.shape[1],X_test_torch.shape[2]))\n",
    "# y_test_torch = torch.from_numpy(y_test-1)\n",
    "# z_test_torch = torch.from_numpy(z_test)\n",
    "\n",
    "# trainset_y = TensorDataset(X_train_torch, y_train_torch)\n",
    "# trainset_z = TensorDataset(X_train_torch, z_train_torch)\n",
    "# testset_y = TensorDataset(X_test_torch, y_test_torch)\n",
    "# testset_z = TensorDataset(X_test_torch, z_test_torch)\n",
    "\n",
    "# #Torch Data Loader:\n",
    "# train_minibatch_size = 64\n",
    "# test_minibatch_size = 128\n",
    "# train_loader = DataLoader(trainset_y, batch_size = train_minibatch_size, shuffle = True)\n",
    "# test_loader = DataLoader(testset_y, batch_size = test_minibatch_size, shuffle = True)"
   ]
  },
  {
   "cell_type": "code",
   "execution_count": 9,
   "id": "psychological-madonna",
   "metadata": {},
   "outputs": [],
   "source": [
    "class BloodDataset(Dataset):\n",
    "    def __init__(self, images, labels, transform=None):\n",
    "        self.images = images\n",
    "        self.labels = labels\n",
    "        self.transform = transform\n",
    "        \n",
    "    def __len__(self):\n",
    "        return len(self.labels)\n",
    "    \n",
    "    def __getitem__(self, idx):\n",
    "        if self.transform:\n",
    "            return self.transform(self.images[idx]), self.labels[idx]\n",
    "        return self.images[idx], self.labels[idx]"
   ]
  },
  {
   "cell_type": "code",
   "execution_count": 10,
   "id": "dimensional-onion",
   "metadata": {},
   "outputs": [],
   "source": [
    "tfms = transforms.Compose([transforms.ToTensor()])\n",
    "train = BloodDataset(X_train, y_train-1, transform=tfms)\n",
    "#normalize the input data\n",
    "mean = tuple((X_train.mean(axis=(0,1,2))/255).round(4))\n",
    "std = tuple((X_train.std(axis=(0,1,2))/255).round(4))\n",
    "tfms = transforms.Compose([transforms.ToTensor(),\n",
    "                           transforms.Normalize(mean, std)])\n",
    "train = BloodDataset(X_train, y_train-1, transform=tfms)\n",
    "#####################################\n",
    "tfms = transforms.Compose([transforms.ToTensor()])\n",
    "test = BloodDataset(X_test, y_test-1, transform=tfms)\n",
    "mean = tuple((X_test.std(axis=(0,1,2))/255).round(4))\n",
    "std = tuple((X_test.std(axis=(0,1,2))/255).round(4))\n",
    "tfms = transforms.Compose([transforms.ToTensor(),\n",
    "                            transforms.Normalize(mean, std)])\n",
    "test = BloodDataset(X_test, y_test-1, transform=tfms)\n",
    "##################################\n",
    "batch_size = 128\n",
    "test_size = 128\n",
    "train_loader = DataLoader(train, batch_size=batch_size, shuffle=True)\n",
    "test_loader = DataLoader(test, batch_size=test_size, shuffle=True)"
   ]
  },
  {
   "cell_type": "markdown",
   "id": "diagnostic-vegetarian",
   "metadata": {},
   "source": [
    "# Task2 : Classification of different cell types"
   ]
  },
  {
   "cell_type": "code",
   "execution_count": 24,
   "id": "accepting-wilson",
   "metadata": {},
   "outputs": [],
   "source": [
    "#Train Function:\n",
    "def train(epoch, model, train_loader):\n",
    "    model.train()\n",
    "    \n",
    "    train_nb_batch = len(train_loader)\n",
    "    train_loss = 0.0\n",
    "    train_batch_loss = 0.0\n",
    "    train_total_loss = 0.0\n",
    "    train_acc = 0.0\n",
    "    train_batch_acc = 0.0\n",
    "    train_total_acc = 0.0\n",
    "    ####################################\n",
    "    for i, (minibatch_X, minibatch_y) in enumerate(train_loader):\n",
    "        minibatch_X = minibatch_X.float().to(device)\n",
    "        minibatch_y = minibatch_y.long().to(device)\n",
    "        #zero that gradients buffer\n",
    "        optimizer.zero_grad()\n",
    "        #forward + backward + optimize\n",
    "        outputs = model(minibatch_X)\n",
    "        loss = criterion(outputs, minibatch_y)\n",
    "        loss.backward()\n",
    "        optimizer.step()\n",
    "\n",
    "        train_batch_loss = loss.item()\n",
    "        train_total_loss += train_batch_loss\n",
    "        pred_batch_train = outputs.data.max(1, keepdim=True)[1]\n",
    "        if i == 0 :\n",
    "            pred_train = pred_batch_train\n",
    "        if i >0:\n",
    "            pred_train = torch.cat([pred_train, pred_batch_train], dim=0)\n",
    "        train_batch_acc = accuracy_score(pred_batch_train,minibatch_y)\n",
    "        train_total_acc += train_batch_acc\n",
    "        \n",
    "    train_loss = train_total_loss/train_nb_batch\n",
    "    train_acc = train_total_acc/train_nb_batch\n",
    "#     scheduler.step()\n",
    "    return pred_train, train_loss, train_acc"
   ]
  },
  {
   "cell_type": "code",
   "execution_count": 25,
   "id": "minimal-gilbert",
   "metadata": {},
   "outputs": [],
   "source": [
    "def test(epoch, model, test_loader):\n",
    "    model.eval()\n",
    "    \n",
    "    test_nb_batch = len(test_loader)\n",
    "    test_loss = 0.0\n",
    "    test_batch_loss = 0.0\n",
    "    test_total_loss = 0.0\n",
    "    test_acc = 0.0\n",
    "    test_batch_acc = 0.0\n",
    "    test_total_acc = 0.0\n",
    "    ####################################\n",
    "    for i, (minibatch_X, minibatch_y) in enumerate(test_loader):\n",
    "        minibatch_X = minibatch_X.float().to(device)\n",
    "        minibatch_y = minibatch_y.long().to(device)\n",
    "        outputs = model(minibatch_X)\n",
    "        loss = criterion(outputs, minibatch_y)\n",
    "        test_batch_loss = loss.item()\n",
    "        test_total_loss += test_batch_loss\n",
    "        pred_batch_test = outputs.data.max(1, keepdim=True)[1]\n",
    "        if i == 0 :\n",
    "            pred_test = pred_batch_test\n",
    "        if i >0:\n",
    "            pred_test = torch.cat([pred_test, pred_batch_test], dim=0)\n",
    "        test_batch_acc = accuracy_score(pred_batch_test,minibatch_y)\n",
    "        test_total_acc += test_batch_acc\n",
    "    test_loss = test_total_loss/test_nb_batch\n",
    "    test_acc = test_total_acc/test_nb_batch\n",
    "    return pred_test, test_loss, test_acc"
   ]
  },
  {
   "cell_type": "markdown",
   "id": "declared-activation",
   "metadata": {},
   "source": [
    "### DenseNet121:"
   ]
  },
  {
   "cell_type": "code",
   "execution_count": 26,
   "id": "varied-settlement",
   "metadata": {},
   "outputs": [],
   "source": [
    "n_classes = 4\n",
    "densenet121 = models.densenet121(pretrained=True)\n",
    "for param in densenet121.features.parameters():\n",
    "    param.requires_grad = False\n",
    "num_ftrs = densenet121.classifier.in_features\n",
    "densenet121.classifier = nn.Sequential(\n",
    "                nn.Dropout(0.5),\n",
    "                nn.Linear(num_ftrs, 4) ) \n",
    "#                 nn.ReLU(), \n",
    "#                 nn.Dropout(0.3),\n",
    "#                 nn.Linear(8, 4) )\n",
    "criterion = nn.CrossEntropyLoss()\n",
    "# optimizer = optim.Adam(densenet121.classifier.parameters(), lr=0.001, betas=(0.9, 0.999), weight_decay=0.01, amsgrad=False)\n",
    "lr = 0.01\n",
    "optimizer = optim.Adam(densenet121.parameters(), lr=lr)\n",
    "# scheduler = MultiStepLR(optimizer, milestones=[5,10,20,30,40,60,80], gamma=0.5)"
   ]
  },
  {
   "cell_type": "code",
   "execution_count": null,
   "id": "great-affair",
   "metadata": {},
   "outputs": [
    {
     "name": "stdout",
     "output_type": "stream",
     "text": [
      "epoch: 0 train loss: 1.2119774230015583 train accuracy: 0.5397140375095202\n",
      "epoch: 0 test loss: 1.0789889574050904 test accuracy: 0.5745383522727272\n",
      "epoch: 1 train loss: 1.054667659294911 train accuracy: 0.5925252681518152\n",
      "epoch: 1 test loss: 1.0595445662736893 test accuracy: 0.5909375\n",
      "epoch: 2 train loss: 1.0785854733907259 train accuracy: 0.59851504982229\n",
      "epoch: 2 test loss: 1.2453665852546691 test accuracy: 0.5130894886363636\n",
      "epoch: 3 train loss: 1.0978076587884853 train accuracy: 0.599836966869764\n",
      "epoch: 3 test loss: 1.0880540907382965 test accuracy: 0.5621732954545455\n",
      "epoch: 4 train loss: 1.1132082037436657 train accuracy: 0.6023479150799695\n",
      "epoch: 4 test loss: 1.2041100144386292 test accuracy: 0.5303977272727273\n",
      "epoch: 5 train loss: 1.039295603067447 train accuracy: 0.6152418126428028\n",
      "epoch: 5 test loss: 1.061614176630974 test accuracy: 0.5757102272727272\n",
      "epoch: 6 train loss: 1.1529532334743402 train accuracy: 0.5965584539223153\n",
      "epoch: 6 test loss: 1.1731312721967697 test accuracy: 0.5656818181818182\n",
      "epoch: 7 train loss: 1.0769984064958034 train accuracy: 0.6086451193196243\n",
      "epoch: 7 test loss: 1.1828439265489579 test accuracy: 0.5578551136363636\n",
      "epoch: 8 train loss: 1.032095268750802 train accuracy: 0.613619414826098\n",
      "epoch: 8 test loss: 1.0604869842529296 test accuracy: 0.5964204545454546\n",
      "epoch: 9 train loss: 1.131738189703379 train accuracy: 0.602948876618431\n",
      "epoch: 9 test loss: 1.3538487553596497 test accuracy: 0.518671875\n",
      "epoch: 10 train loss: 1.064106197693409 train accuracy: 0.616663889946687\n",
      "epoch: 10 test loss: 1.1427212446928023 test accuracy: 0.5684090909090909\n"
     ]
    }
   ],
   "source": [
    "num_epoch = 100\n",
    "train_losses = []\n",
    "test_losses = []\n",
    "train_accs = []\n",
    "test_accs= []\n",
    "\n",
    "for epoch in range(num_epoch):\n",
    "    pred_train, train_loss, train_acc = train(epoch, densenet121, train_loader)\n",
    "    train_losses.append(train_loss)\n",
    "    train_accs.append(train_acc)\n",
    "    \n",
    "    pred_test, test_loss, test_acc = test(epoch, densenet121, test_loader)\n",
    "    test_losses.append(test_loss)\n",
    "    test_accs.append(test_acc)\n",
    "    \n",
    "    print(\"epoch:\",epoch,\"train loss:\", train_loss, \"train accuracy:\", train_acc)\n",
    "    print(\"epoch:\",epoch,\"test loss:\", test_loss, \"test accuracy:\", test_acc)"
   ]
  },
  {
   "cell_type": "code",
   "execution_count": null,
   "id": "qualified-cylinder",
   "metadata": {},
   "outputs": [],
   "source": []
  },
  {
   "cell_type": "code",
   "execution_count": 21,
   "id": "sixth-tooth",
   "metadata": {},
   "outputs": [
    {
     "name": "stdout",
     "output_type": "stream",
     "text": [
      "Finished Training\n"
     ]
    }
   ],
   "source": [
    "print('Finished Training')\n",
    "PATH = './Project_Task2_DenseNet121_100epoch_lr0001_dropout.pkl'\n",
    "torch.save(densenet121, PATH)"
   ]
  },
  {
   "cell_type": "code",
   "execution_count": 22,
   "id": "caring-christianity",
   "metadata": {},
   "outputs": [],
   "source": [
    "np.save('train_losses_DenseNet121_100epoch_dropout.npy', train_losses)\n",
    "np.save('train_errors_DenseNet121_100epoch_dropout.npy', train_errors)\n",
    "np.save('test_losses_DenseNet121_100epoch_dropout.npy', test_losses)\n",
    "np.save('test_errors_DenseNet121_100epoch_dropout.npy', test_errors)"
   ]
  },
  {
   "cell_type": "code",
   "execution_count": 19,
   "id": "unlikely-cowboy",
   "metadata": {},
   "outputs": [
    {
     "data": {
      "image/png": "[encoded data removed]",
      "text/plain": [
       "<Figure size 576x360 with 1 Axes>"
      ]
     },
     "metadata": {
      "needs_background": "light"
     },
     "output_type": "display_data"
    },
    {
     "data": {
      "image/png": "[encoded data removed]",
      "text/plain": [
       "<Figure size 576x360 with 1 Axes>"
      ]
     },
     "metadata": {
      "needs_background": "light"
     },
     "output_type": "display_data"
    }
   ],
   "source": [
    "#Plot Train and Validation Loss \n",
    "figure = plt.figure(figsize = [8, 5])\n",
    "plt.plot(np.arange(len(train_losses[:])),train_losses[:], label='Training', linewidth=5)\n",
    "plt.plot(np.arange(len(test_losses[:])),test_losses[:], label='Validation', linewidth=5)\n",
    "plt.legend(fontsize=15)\n",
    "plt.ylabel('Loss',fontsize=25)\n",
    "plt.xlabel('Epochs',fontsize=25)\n",
    "plt.title(\"Learning rate =\" + str(0.0001),fontsize=25)\n",
    "plt.savefig('./Task2_DenseNet121_loss.png')\n",
    "plt.show() \n",
    "\n",
    "#Plot Train and Validation Errors\n",
    "figure = plt.figure(figsize = [8, 5])\n",
    "plt.plot(np.arange(len(train_errors[:])),train_errors[:], label='Training', linewidth=5)\n",
    "plt.plot(np.arange(len(test_errors[:])),test_errors[:], label='Validation', linewidth=5)\n",
    "plt.legend(fontsize=15)\n",
    "plt.ylabel('Error',fontsize=25)\n",
    "plt.xlabel('Epochs',fontsize=25)\n",
    "plt.title(\"Learning rate =\" + str(0.0001),fontsize=25)\n",
    "plt.savefig('./Task2_DenseNet121_error.png')\n",
    "plt.show() "
   ]
  },
  {
   "cell_type": "code",
   "execution_count": null,
   "id": "sudden-layout",
   "metadata": {},
   "outputs": [],
   "source": []
  },
  {
   "cell_type": "code",
   "execution_count": null,
   "id": "uniform-serial",
   "metadata": {},
   "outputs": [],
   "source": []
  },
  {
   "cell_type": "code",
   "execution_count": null,
   "id": "exact-blair",
   "metadata": {},
   "outputs": [],
   "source": [
    "\n"
   ]
  },
  {
   "cell_type": "code",
   "execution_count": null,
   "id": "metropolitan-arrow",
   "metadata": {},
   "outputs": [],
   "source": []
  }
 ],
 "metadata": {
  "kernelspec": {
   "display_name": "Python 3",
   "language": "python",
   "name": "python3"
  },
  "language_info": {
   "codemirror_mode": {
    "name": "ipython",
    "version": 3
   },
   "file_extension": ".py",
   "mimetype": "text/x-python",
   "name": "python",
   "nbconvert_exporter": "python",
   "pygments_lexer": "ipython3",
   "version": "3.7.7"
  }
 },
 "nbformat": 4,
 "nbformat_minor": 5
}
